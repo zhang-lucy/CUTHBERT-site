{
 "cells": [
  {
   "cell_type": "code",
   "execution_count": 8,
   "metadata": {},
   "outputs": [
    {
     "data": {
      "application/vnd.jupyter.widget-view+json": {
       "model_id": "12791c0462a94a3fb5043099b297ec94",
       "version_major": 2,
       "version_minor": 0
      },
      "text/plain": [
       "interactive(children=(IntSlider(value=50, description='random_seed'), Output()), _dom_classes=('widget-interac…"
      ]
     },
     "metadata": {},
     "output_type": "display_data"
    }
   ],
   "source": [
    "# nbi:hide_in\n",
    "import pickle\n",
    "from ipywidgets import interact\n",
    "import numpy as np\n",
    "from music21 import *\n",
    "    \n",
    "harmonies_to_melodies = pickle.load(open(\"CTM.pkl\", \"rb\"))\n",
    "\n",
    "def chord_to_melody(c):\n",
    "    if c in harmonies_to_melodies.keys():\n",
    "        possible_melodies = harmonies_to_melodies[c]\n",
    "        if len(list(possible_melodies)) == 1:\n",
    "            return list(possible_melodies)[0]\n",
    "        else:\n",
    "            return np.random.choice(list(possible_melodies))\n",
    "    else:\n",
    "        return -1\n",
    "    \n",
    "def add_melody_to_list(part, melody):\n",
    "    for n in melody:\n",
    "        if n > 0:\n",
    "            part.append(note.Note(pitch.Pitch(n)))\n",
    "        else:\n",
    "            part.append(note.Rest(-n))\n",
    "    return part\n",
    "\n",
    "# nbi:hide_in\n",
    "def getChordAndMelody(random_seed):\n",
    "    np.random.seed(random_seed)\n",
    "    c = np.random.choice(list(harmonies_to_melodies.keys()))\n",
    "    melody = chord_to_melody(c)\n",
    "    lst = []\n",
    "    lst = add_melody_to_list(lst, melody)\n",
    "    print(\"Chord: \", chord.Chord(c).pitchedCommonName)\n",
    "    print(\"Melody: \", lst)\n",
    "\n",
    "interact(getChordAndMelody, random_seed=(0,100));"
   ]
  },
  {
   "cell_type": "code",
   "execution_count": 2,
   "metadata": {},
   "outputs": [],
   "source": [
    "# nbi:hide_in\n"
   ]
  }
 ],
 "metadata": {
  "kernelspec": {
   "display_name": "Python 3",
   "language": "python",
   "name": "python3"
  },
  "language_info": {
   "codemirror_mode": {
    "name": "ipython",
    "version": 3
   },
   "file_extension": ".py",
   "mimetype": "text/x-python",
   "name": "python",
   "nbconvert_exporter": "python",
   "pygments_lexer": "ipython3",
   "version": "3.8.3"
  }
 },
 "nbformat": 4,
 "nbformat_minor": 2
}
